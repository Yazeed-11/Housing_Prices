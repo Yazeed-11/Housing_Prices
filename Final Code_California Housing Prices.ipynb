{
 "cells": [
  {
   "cell_type": "markdown",
   "id": "aab80fb1",
   "metadata": {},
   "source": [
    "# California Housing Prices [Linear Regression Model]\n",
    "_____________"
   ]
  },
  {
   "cell_type": "markdown",
   "id": "6a18b9bb",
   "metadata": {},
   "source": [
    "#### Steps :\n",
    "   - Import dataset\n",
    "   - Cleaning\n",
    "   - Dealing with the Outliers\n",
    "   - EDA\n",
    "   - Define x , y \n",
    "   - Split Dataset [ train - test ]\n",
    "   - Build and train model\n",
    "   - Predict the test \n",
    "   - Evaluate model"
   ]
  },
  {
   "cell_type": "code",
   "execution_count": 1,
   "id": "1872c49c",
   "metadata": {},
   "outputs": [
    {
     "name": "stdout",
     "output_type": "stream",
     "text": [
      "Requirement already satisfied: folium in c:\\users\\asus\\anaconda3\\lib\\site-packages (0.12.1.post1)\n",
      "Requirement already satisfied: jinja2>=2.9 in c:\\users\\asus\\anaconda3\\lib\\site-packages (from folium) (2.11.3)\n",
      "Requirement already satisfied: branca>=0.3.0 in c:\\users\\asus\\anaconda3\\lib\\site-packages (from folium) (0.4.2)\n",
      "Requirement already satisfied: requests in c:\\users\\asus\\anaconda3\\lib\\site-packages (from folium) (2.25.1)\n",
      "Requirement already satisfied: numpy in c:\\users\\asus\\anaconda3\\lib\\site-packages (from folium) (1.20.1)\n",
      "Requirement already satisfied: MarkupSafe>=0.23 in c:\\users\\asus\\anaconda3\\lib\\site-packages (from jinja2>=2.9->folium) (1.1.1)\n",
      "Requirement already satisfied: urllib3<1.27,>=1.21.1 in c:\\users\\asus\\anaconda3\\lib\\site-packages (from requests->folium) (1.26.4)\n",
      "Requirement already satisfied: certifi>=2017.4.17 in c:\\users\\asus\\anaconda3\\lib\\site-packages (from requests->folium) (2020.12.5)\n",
      "Requirement already satisfied: idna<3,>=2.5 in c:\\users\\asus\\anaconda3\\lib\\site-packages (from requests->folium) (2.10)\n",
      "Requirement already satisfied: chardet<5,>=3.0.2 in c:\\users\\asus\\anaconda3\\lib\\site-packages (from requests->folium) (4.0.0)\n"
     ]
    }
   ],
   "source": [
    "! pip install folium"
   ]
  },
  {
   "cell_type": "markdown",
   "id": "1e13f72d",
   "metadata": {},
   "source": [
    "### Data libraries:"
   ]
  },
  {
   "cell_type": "code",
   "execution_count": 1,
   "id": "2aa3ae4f",
   "metadata": {},
   "outputs": [],
   "source": [
    "import numpy as np\n",
    "import pandas as pd\n",
    "import matplotlib.pyplot as plt\n",
    "import seaborn as sns                        \n",
    "import matplotlib.image as mpimg\n",
    "%matplotlib inline\n",
    "from sklearn.metrics import mean_squared_error, r2_score\n",
    "from sklearn.linear_model import LinearRegression           #build model\n",
    "from sklearn.model_selection import train_test_split        #data splitting\n",
    "from sklearn.model_selection import cross_val_score\n",
    "from sklearn.tree import DecisionTreeRegressor\n",
    "from sklearn.preprocessing import StandardScaler, PolynomialFeatures\n",
    "from sklearn.linear_model import Ridge, Lasso\n",
    "from sklearn.ensemble import RandomForestRegressor\n",
    "from math import sqrt\n",
    "import folium as folium\n",
    "from folium import plugins\n",
    "from folium.plugins import HeatMap"
   ]
  },
  {
   "cell_type": "markdown",
   "id": "57885f50",
   "metadata": {},
   "source": [
    "## Exploring the data"
   ]
  },
  {
   "cell_type": "markdown",
   "id": "73693523",
   "metadata": {},
   "source": [
    "### Load Dataset\n",
    "#### Read the `housing.csv` dataset into an object named `df`"
   ]
  },
  {
   "cell_type": "code",
   "execution_count": 8,
   "id": "7e92c060",
   "metadata": {},
   "outputs": [
    {
     "data": {
      "text/plain": [
       "'C:\\\\Users\\\\asus\\\\Downloads\\\\bootcamp-T5\\\\project2'"
      ]
     },
     "execution_count": 8,
     "metadata": {},
     "output_type": "execute_result"
    }
   ],
   "source": [
    "pwd"
   ]
  },
  {
   "cell_type": "code",
   "execution_count": 5,
   "id": "5a386f45",
   "metadata": {},
   "outputs": [
    {
     "name": "stdout",
     "output_type": "stream",
     "text": [
      " Volume in drive C is OS\n",
      " Volume Serial Number is 38C1-4E93\n",
      "\n",
      " Directory of C:\\Users\\asus\\Downloads\\bootcamp-T5\\project2\n",
      "\n",
      "12/25/21  03:32 PM    <DIR>          .\n",
      "12/22/21  11:09 PM    <DIR>          ..\n",
      "12/25/21  02:38 PM    <DIR>          .ipynb_checkpoints\n",
      "11/29/21  11:25 PM         3,469,851 California Housing Prices (MVP).ipynb\n",
      "12/05/21  12:40 AM         2,020,801 California Housing Prices.pptx\n",
      "12/03/21  08:47 PM         3,636,940 California Housing Prices_.ipynb\n",
      "12/07/21  10:06 AM         2,333,645 California Housing Prices_s121.ipynb\n",
      "12/01/21  03:34 PM            65,733 california.png\n",
      "12/25/21  03:32 PM            47,530 Final Code_California Housing Prices.ipynb\n",
      "11/24/21  04:27 PM         1,423,529 house.csv\n",
      "12/03/21  09:16 PM         1,163,664 MVP_California Housing Prices (3).ipynb\n",
      "12/01/21  03:44 PM         3,765,226 MVP_California Housing Prices.ipynb\n",
      "12/08/21  01:42 PM           540,547 Report California Housing Prices.docx\n",
      "              10 File(s)     18,467,466 bytes\n",
      "               3 Dir(s)  406,211,526,656 bytes free\n"
     ]
    }
   ],
   "source": [
    "ls"
   ]
  },
  {
   "cell_type": "code",
   "execution_count": 10,
   "id": "0955ae2b",
   "metadata": {},
   "outputs": [
    {
     "ename": "FileNotFoundError",
     "evalue": "[Errno 2] No such file or directory: '\\\\housing.csv'",
     "output_type": "error",
     "traceback": [
      "\u001b[1;31m---------------------------------------------------------------------------\u001b[0m",
      "\u001b[1;31mFileNotFoundError\u001b[0m                         Traceback (most recent call last)",
      "\u001b[1;32m<ipython-input-10-5a8769b64af5>\u001b[0m in \u001b[0;36m<module>\u001b[1;34m\u001b[0m\n\u001b[1;32m----> 1\u001b[1;33m \u001b[0mdf\u001b[0m \u001b[1;33m=\u001b[0m \u001b[0mpd\u001b[0m\u001b[1;33m.\u001b[0m\u001b[0mread_csv\u001b[0m\u001b[1;33m(\u001b[0m\u001b[1;34m\"\\\\housing.csv\"\u001b[0m\u001b[1;33m)\u001b[0m\u001b[1;33m\u001b[0m\u001b[1;33m\u001b[0m\u001b[0m\n\u001b[0m",
      "\u001b[1;32m~\\anaconda3\\lib\\site-packages\\pandas\\io\\parsers.py\u001b[0m in \u001b[0;36mread_csv\u001b[1;34m(filepath_or_buffer, sep, delimiter, header, names, index_col, usecols, squeeze, prefix, mangle_dupe_cols, dtype, engine, converters, true_values, false_values, skipinitialspace, skiprows, skipfooter, nrows, na_values, keep_default_na, na_filter, verbose, skip_blank_lines, parse_dates, infer_datetime_format, keep_date_col, date_parser, dayfirst, cache_dates, iterator, chunksize, compression, thousands, decimal, lineterminator, quotechar, quoting, doublequote, escapechar, comment, encoding, dialect, error_bad_lines, warn_bad_lines, delim_whitespace, low_memory, memory_map, float_precision, storage_options)\u001b[0m\n\u001b[0;32m    608\u001b[0m     \u001b[0mkwds\u001b[0m\u001b[1;33m.\u001b[0m\u001b[0mupdate\u001b[0m\u001b[1;33m(\u001b[0m\u001b[0mkwds_defaults\u001b[0m\u001b[1;33m)\u001b[0m\u001b[1;33m\u001b[0m\u001b[1;33m\u001b[0m\u001b[0m\n\u001b[0;32m    609\u001b[0m \u001b[1;33m\u001b[0m\u001b[0m\n\u001b[1;32m--> 610\u001b[1;33m     \u001b[1;32mreturn\u001b[0m \u001b[0m_read\u001b[0m\u001b[1;33m(\u001b[0m\u001b[0mfilepath_or_buffer\u001b[0m\u001b[1;33m,\u001b[0m \u001b[0mkwds\u001b[0m\u001b[1;33m)\u001b[0m\u001b[1;33m\u001b[0m\u001b[1;33m\u001b[0m\u001b[0m\n\u001b[0m\u001b[0;32m    611\u001b[0m \u001b[1;33m\u001b[0m\u001b[0m\n\u001b[0;32m    612\u001b[0m \u001b[1;33m\u001b[0m\u001b[0m\n",
      "\u001b[1;32m~\\anaconda3\\lib\\site-packages\\pandas\\io\\parsers.py\u001b[0m in \u001b[0;36m_read\u001b[1;34m(filepath_or_buffer, kwds)\u001b[0m\n\u001b[0;32m    460\u001b[0m \u001b[1;33m\u001b[0m\u001b[0m\n\u001b[0;32m    461\u001b[0m     \u001b[1;31m# Create the parser.\u001b[0m\u001b[1;33m\u001b[0m\u001b[1;33m\u001b[0m\u001b[1;33m\u001b[0m\u001b[0m\n\u001b[1;32m--> 462\u001b[1;33m     \u001b[0mparser\u001b[0m \u001b[1;33m=\u001b[0m \u001b[0mTextFileReader\u001b[0m\u001b[1;33m(\u001b[0m\u001b[0mfilepath_or_buffer\u001b[0m\u001b[1;33m,\u001b[0m \u001b[1;33m**\u001b[0m\u001b[0mkwds\u001b[0m\u001b[1;33m)\u001b[0m\u001b[1;33m\u001b[0m\u001b[1;33m\u001b[0m\u001b[0m\n\u001b[0m\u001b[0;32m    463\u001b[0m \u001b[1;33m\u001b[0m\u001b[0m\n\u001b[0;32m    464\u001b[0m     \u001b[1;32mif\u001b[0m \u001b[0mchunksize\u001b[0m \u001b[1;32mor\u001b[0m \u001b[0miterator\u001b[0m\u001b[1;33m:\u001b[0m\u001b[1;33m\u001b[0m\u001b[1;33m\u001b[0m\u001b[0m\n",
      "\u001b[1;32m~\\anaconda3\\lib\\site-packages\\pandas\\io\\parsers.py\u001b[0m in \u001b[0;36m__init__\u001b[1;34m(self, f, engine, **kwds)\u001b[0m\n\u001b[0;32m    817\u001b[0m             \u001b[0mself\u001b[0m\u001b[1;33m.\u001b[0m\u001b[0moptions\u001b[0m\u001b[1;33m[\u001b[0m\u001b[1;34m\"has_index_names\"\u001b[0m\u001b[1;33m]\u001b[0m \u001b[1;33m=\u001b[0m \u001b[0mkwds\u001b[0m\u001b[1;33m[\u001b[0m\u001b[1;34m\"has_index_names\"\u001b[0m\u001b[1;33m]\u001b[0m\u001b[1;33m\u001b[0m\u001b[1;33m\u001b[0m\u001b[0m\n\u001b[0;32m    818\u001b[0m \u001b[1;33m\u001b[0m\u001b[0m\n\u001b[1;32m--> 819\u001b[1;33m         \u001b[0mself\u001b[0m\u001b[1;33m.\u001b[0m\u001b[0m_engine\u001b[0m \u001b[1;33m=\u001b[0m \u001b[0mself\u001b[0m\u001b[1;33m.\u001b[0m\u001b[0m_make_engine\u001b[0m\u001b[1;33m(\u001b[0m\u001b[0mself\u001b[0m\u001b[1;33m.\u001b[0m\u001b[0mengine\u001b[0m\u001b[1;33m)\u001b[0m\u001b[1;33m\u001b[0m\u001b[1;33m\u001b[0m\u001b[0m\n\u001b[0m\u001b[0;32m    820\u001b[0m \u001b[1;33m\u001b[0m\u001b[0m\n\u001b[0;32m    821\u001b[0m     \u001b[1;32mdef\u001b[0m \u001b[0mclose\u001b[0m\u001b[1;33m(\u001b[0m\u001b[0mself\u001b[0m\u001b[1;33m)\u001b[0m\u001b[1;33m:\u001b[0m\u001b[1;33m\u001b[0m\u001b[1;33m\u001b[0m\u001b[0m\n",
      "\u001b[1;32m~\\anaconda3\\lib\\site-packages\\pandas\\io\\parsers.py\u001b[0m in \u001b[0;36m_make_engine\u001b[1;34m(self, engine)\u001b[0m\n\u001b[0;32m   1048\u001b[0m             )\n\u001b[0;32m   1049\u001b[0m         \u001b[1;31m# error: Too many arguments for \"ParserBase\"\u001b[0m\u001b[1;33m\u001b[0m\u001b[1;33m\u001b[0m\u001b[1;33m\u001b[0m\u001b[0m\n\u001b[1;32m-> 1050\u001b[1;33m         \u001b[1;32mreturn\u001b[0m \u001b[0mmapping\u001b[0m\u001b[1;33m[\u001b[0m\u001b[0mengine\u001b[0m\u001b[1;33m]\u001b[0m\u001b[1;33m(\u001b[0m\u001b[0mself\u001b[0m\u001b[1;33m.\u001b[0m\u001b[0mf\u001b[0m\u001b[1;33m,\u001b[0m \u001b[1;33m**\u001b[0m\u001b[0mself\u001b[0m\u001b[1;33m.\u001b[0m\u001b[0moptions\u001b[0m\u001b[1;33m)\u001b[0m  \u001b[1;31m# type: ignore[call-arg]\u001b[0m\u001b[1;33m\u001b[0m\u001b[1;33m\u001b[0m\u001b[0m\n\u001b[0m\u001b[0;32m   1051\u001b[0m \u001b[1;33m\u001b[0m\u001b[0m\n\u001b[0;32m   1052\u001b[0m     \u001b[1;32mdef\u001b[0m \u001b[0m_failover_to_python\u001b[0m\u001b[1;33m(\u001b[0m\u001b[0mself\u001b[0m\u001b[1;33m)\u001b[0m\u001b[1;33m:\u001b[0m\u001b[1;33m\u001b[0m\u001b[1;33m\u001b[0m\u001b[0m\n",
      "\u001b[1;32m~\\anaconda3\\lib\\site-packages\\pandas\\io\\parsers.py\u001b[0m in \u001b[0;36m__init__\u001b[1;34m(self, src, **kwds)\u001b[0m\n\u001b[0;32m   1865\u001b[0m \u001b[1;33m\u001b[0m\u001b[0m\n\u001b[0;32m   1866\u001b[0m         \u001b[1;31m# open handles\u001b[0m\u001b[1;33m\u001b[0m\u001b[1;33m\u001b[0m\u001b[1;33m\u001b[0m\u001b[0m\n\u001b[1;32m-> 1867\u001b[1;33m         \u001b[0mself\u001b[0m\u001b[1;33m.\u001b[0m\u001b[0m_open_handles\u001b[0m\u001b[1;33m(\u001b[0m\u001b[0msrc\u001b[0m\u001b[1;33m,\u001b[0m \u001b[0mkwds\u001b[0m\u001b[1;33m)\u001b[0m\u001b[1;33m\u001b[0m\u001b[1;33m\u001b[0m\u001b[0m\n\u001b[0m\u001b[0;32m   1868\u001b[0m         \u001b[1;32massert\u001b[0m \u001b[0mself\u001b[0m\u001b[1;33m.\u001b[0m\u001b[0mhandles\u001b[0m \u001b[1;32mis\u001b[0m \u001b[1;32mnot\u001b[0m \u001b[1;32mNone\u001b[0m\u001b[1;33m\u001b[0m\u001b[1;33m\u001b[0m\u001b[0m\n\u001b[0;32m   1869\u001b[0m         \u001b[1;32mfor\u001b[0m \u001b[0mkey\u001b[0m \u001b[1;32min\u001b[0m \u001b[1;33m(\u001b[0m\u001b[1;34m\"storage_options\"\u001b[0m\u001b[1;33m,\u001b[0m \u001b[1;34m\"encoding\"\u001b[0m\u001b[1;33m,\u001b[0m \u001b[1;34m\"memory_map\"\u001b[0m\u001b[1;33m,\u001b[0m \u001b[1;34m\"compression\"\u001b[0m\u001b[1;33m)\u001b[0m\u001b[1;33m:\u001b[0m\u001b[1;33m\u001b[0m\u001b[1;33m\u001b[0m\u001b[0m\n",
      "\u001b[1;32m~\\anaconda3\\lib\\site-packages\\pandas\\io\\parsers.py\u001b[0m in \u001b[0;36m_open_handles\u001b[1;34m(self, src, kwds)\u001b[0m\n\u001b[0;32m   1360\u001b[0m         \u001b[0mLet\u001b[0m \u001b[0mthe\u001b[0m \u001b[0mreaders\u001b[0m \u001b[0mopen\u001b[0m \u001b[0mIOHanldes\u001b[0m \u001b[0mafter\u001b[0m \u001b[0mthey\u001b[0m \u001b[0mare\u001b[0m \u001b[0mdone\u001b[0m \u001b[1;32mwith\u001b[0m \u001b[0mtheir\u001b[0m \u001b[0mpotential\u001b[0m \u001b[0mraises\u001b[0m\u001b[1;33m.\u001b[0m\u001b[1;33m\u001b[0m\u001b[1;33m\u001b[0m\u001b[0m\n\u001b[0;32m   1361\u001b[0m         \"\"\"\n\u001b[1;32m-> 1362\u001b[1;33m         self.handles = get_handle(\n\u001b[0m\u001b[0;32m   1363\u001b[0m             \u001b[0msrc\u001b[0m\u001b[1;33m,\u001b[0m\u001b[1;33m\u001b[0m\u001b[1;33m\u001b[0m\u001b[0m\n\u001b[0;32m   1364\u001b[0m             \u001b[1;34m\"r\"\u001b[0m\u001b[1;33m,\u001b[0m\u001b[1;33m\u001b[0m\u001b[1;33m\u001b[0m\u001b[0m\n",
      "\u001b[1;32m~\\anaconda3\\lib\\site-packages\\pandas\\io\\common.py\u001b[0m in \u001b[0;36mget_handle\u001b[1;34m(path_or_buf, mode, encoding, compression, memory_map, is_text, errors, storage_options)\u001b[0m\n\u001b[0;32m    640\u001b[0m                 \u001b[0merrors\u001b[0m \u001b[1;33m=\u001b[0m \u001b[1;34m\"replace\"\u001b[0m\u001b[1;33m\u001b[0m\u001b[1;33m\u001b[0m\u001b[0m\n\u001b[0;32m    641\u001b[0m             \u001b[1;31m# Encoding\u001b[0m\u001b[1;33m\u001b[0m\u001b[1;33m\u001b[0m\u001b[1;33m\u001b[0m\u001b[0m\n\u001b[1;32m--> 642\u001b[1;33m             handle = open(\n\u001b[0m\u001b[0;32m    643\u001b[0m                 \u001b[0mhandle\u001b[0m\u001b[1;33m,\u001b[0m\u001b[1;33m\u001b[0m\u001b[1;33m\u001b[0m\u001b[0m\n\u001b[0;32m    644\u001b[0m                 \u001b[0mioargs\u001b[0m\u001b[1;33m.\u001b[0m\u001b[0mmode\u001b[0m\u001b[1;33m,\u001b[0m\u001b[1;33m\u001b[0m\u001b[1;33m\u001b[0m\u001b[0m\n",
      "\u001b[1;31mFileNotFoundError\u001b[0m: [Errno 2] No such file or directory: '\\\\housing.csv'"
     ]
    }
   ],
   "source": [
    "df = pd.read_csv(\"\\\\housing.csv\")"
   ]
  },
  {
   "cell_type": "code",
   "execution_count": null,
   "id": "bfe9e206",
   "metadata": {
    "scrolled": true
   },
   "outputs": [],
   "source": [
    "# Shows the number of rows and columns in the data\n",
    "df.shape"
   ]
  },
  {
   "cell_type": "code",
   "execution_count": null,
   "id": "0d6b282b",
   "metadata": {
    "scrolled": true
   },
   "outputs": [],
   "source": [
    "df.info()"
   ]
  },
  {
   "cell_type": "markdown",
   "id": "986f0f97",
   "metadata": {},
   "source": [
    "#### Using `.head()` to look at the first five rows of the data set."
   ]
  },
  {
   "cell_type": "code",
   "execution_count": null,
   "id": "ff7f116b",
   "metadata": {
    "scrolled": true
   },
   "outputs": [],
   "source": [
    "df.head()"
   ]
  },
  {
   "cell_type": "code",
   "execution_count": null,
   "id": "0f4973de",
   "metadata": {},
   "outputs": [],
   "source": [
    "df.columns"
   ]
  },
  {
   "cell_type": "code",
   "execution_count": null,
   "id": "5910a052",
   "metadata": {},
   "outputs": [],
   "source": [
    "df=df[(df['median_house_value']>0) & (df['median_house_value']<300000)]"
   ]
  },
  {
   "cell_type": "code",
   "execution_count": null,
   "id": "2077e941",
   "metadata": {},
   "outputs": [],
   "source": [
    "df.sample(10)"
   ]
  },
  {
   "cell_type": "markdown",
   "id": "544f8539",
   "metadata": {},
   "source": [
    "#### using `.info` to explore columns index, columns names, non-Null count values and data type in the dataset"
   ]
  },
  {
   "cell_type": "code",
   "execution_count": null,
   "id": "97bd22e1",
   "metadata": {},
   "outputs": [],
   "source": [
    "df.info()"
   ]
  },
  {
   "cell_type": "code",
   "execution_count": null,
   "id": "ed7f077f",
   "metadata": {
    "scrolled": true
   },
   "outputs": [],
   "source": [
    " # Sum total of the null values \n",
    "df.isnull().sum().sum()"
   ]
  },
  {
   "cell_type": "markdown",
   "id": "0bf54da1",
   "metadata": {},
   "source": [
    "####  `.isna().sum()` to sum the null values in the dataset for each column."
   ]
  },
  {
   "cell_type": "code",
   "execution_count": null,
   "id": "08175094",
   "metadata": {
    "scrolled": false
   },
   "outputs": [],
   "source": [
    "df.isnull().sum()"
   ]
  },
  {
   "cell_type": "markdown",
   "id": "39790c47",
   "metadata": {},
   "source": [
    "#### Using `.describe()` to see the statistics of our values"
   ]
  },
  {
   "cell_type": "code",
   "execution_count": null,
   "id": "e7e0b92d",
   "metadata": {
    "scrolled": true
   },
   "outputs": [],
   "source": [
    "df.describe()"
   ]
  },
  {
   "cell_type": "code",
   "execution_count": null,
   "id": "6fef6a1e",
   "metadata": {},
   "outputs": [],
   "source": [
    "df['ocean_proximity'].unique() #show unique Row in column"
   ]
  },
  {
   "cell_type": "code",
   "execution_count": null,
   "id": "c0795c68",
   "metadata": {
    "scrolled": true
   },
   "outputs": [],
   "source": [
    "df.ocean_proximity= df.ocean_proximity.str.replace('<', 'less ') # replace symbol < to 'less' in Row\n",
    "df.ocean_proximity.unique()"
   ]
  },
  {
   "cell_type": "code",
   "execution_count": null,
   "id": "76c1c0c1",
   "metadata": {},
   "outputs": [],
   "source": [
    "bedroom_median = df['total_bedrooms'].median()\n",
    "bedroom_median"
   ]
  },
  {
   "cell_type": "code",
   "execution_count": null,
   "id": "75115237",
   "metadata": {},
   "outputs": [],
   "source": [
    "df['total_bedrooms'].fillna(bedroom_median, inplace=True) # fill the null values with bedroom_median"
   ]
  },
  {
   "cell_type": "markdown",
   "id": "00eefef6",
   "metadata": {},
   "source": [
    "#### Using `.tail()` to look at the last five rows of the data set."
   ]
  },
  {
   "cell_type": "code",
   "execution_count": null,
   "id": "5a464141",
   "metadata": {
    "scrolled": false
   },
   "outputs": [],
   "source": [
    "df.tail()"
   ]
  },
  {
   "cell_type": "markdown",
   "id": "4b33ad07",
   "metadata": {},
   "source": [
    "####  `.duplicated().sum()` to sum the duplicated values in the dataset."
   ]
  },
  {
   "cell_type": "code",
   "execution_count": null,
   "id": "654939d3",
   "metadata": {
    "scrolled": false
   },
   "outputs": [],
   "source": [
    "df.duplicated().sum()"
   ]
  },
  {
   "cell_type": "code",
   "execution_count": null,
   "id": "618f000a",
   "metadata": {
    "scrolled": true
   },
   "outputs": [],
   "source": [
    "df.describe()"
   ]
  },
  {
   "cell_type": "markdown",
   "id": "95e24028",
   "metadata": {},
   "source": [
    "#### The result of `.value_counts()` is the **ocean_proximity** column's values as its index."
   ]
  },
  {
   "cell_type": "code",
   "execution_count": null,
   "id": "94241c65",
   "metadata": {},
   "outputs": [],
   "source": [
    "df['ocean_proximity'].value_counts()"
   ]
  },
  {
   "cell_type": "markdown",
   "id": "69a472c0",
   "metadata": {},
   "source": [
    "## Dealing with the Outliers"
   ]
  },
  {
   "cell_type": "markdown",
   "id": "ba910fef",
   "metadata": {},
   "source": [
    "#### Defining a function called `plot_outliers` to show the outliers in my plots.\n",
    "#### Defining a function called `plot_hist` to visualize, and we will use it in visualizing the outliers."
   ]
  },
  {
   "cell_type": "code",
   "execution_count": null,
   "id": "6d60d4d0",
   "metadata": {},
   "outputs": [],
   "source": [
    "def plot_outliers(df,col):\n",
    "    plt.title(col)\n",
    "    ax = sns.boxplot(data=df, x=col)\n",
    "    ax.set(xlabel='')\n",
    "    plt.show()\n",
    "\n",
    "def plot_hist(df,col):\n",
    "    plt.hist(x=df[col],bins=40,color='#D11239')\n",
    "    plt.show();"
   ]
  },
  {
   "cell_type": "code",
   "execution_count": null,
   "id": "2e6bb532",
   "metadata": {
    "scrolled": true
   },
   "outputs": [],
   "source": [
    "for col in df.columns:\n",
    "    if df[col].dtype == 'float64':\n",
    "        plot_outliers(df,col)\n",
    "        plot_hist(df,col)"
   ]
  },
  {
   "cell_type": "markdown",
   "id": "03498b98",
   "metadata": {},
   "source": [
    "#### Bedrooms"
   ]
  },
  {
   "cell_type": "code",
   "execution_count": null,
   "id": "ec08ff04",
   "metadata": {},
   "outputs": [],
   "source": [
    "firstQ = df['total_bedrooms'].quantile(0.25)\n",
    "thirdQ = df['total_bedrooms'].quantile(0.75)\n",
    "IQR = thirdQ - firstQ\n",
    "IQR"
   ]
  },
  {
   "cell_type": "code",
   "execution_count": null,
   "id": "70389f36",
   "metadata": {},
   "outputs": [],
   "source": [
    "newB = thirdQ + 3*(IQR)\n",
    "df.drop(df[df['total_bedrooms']>newB].index, axis = 0, inplace =True)"
   ]
  },
  {
   "cell_type": "code",
   "execution_count": null,
   "id": "b7b1ef21",
   "metadata": {
    "scrolled": false
   },
   "outputs": [],
   "source": [
    "df.shape"
   ]
  },
  {
   "cell_type": "markdown",
   "id": "44b90843",
   "metadata": {},
   "source": [
    "#### population"
   ]
  },
  {
   "cell_type": "code",
   "execution_count": null,
   "id": "a0fdf8d1",
   "metadata": {},
   "outputs": [],
   "source": [
    "firstQ_p = df['population'].quantile(0.25)\n",
    "thirdQ_p = df['population'].quantile(0.75)\n",
    "IQR_p = thirdQ_p - firstQ_p\n",
    "IQR_p"
   ]
  },
  {
   "cell_type": "code",
   "execution_count": null,
   "id": "0fd5f795",
   "metadata": {},
   "outputs": [],
   "source": [
    "newB_p = thirdQ_p + 3*(IQR_p)\n",
    "df.drop(df[df['population']>newB_p].index, axis = 0, inplace =True)\n",
    "df.shape"
   ]
  },
  {
   "cell_type": "markdown",
   "id": "7cb20019",
   "metadata": {},
   "source": [
    "#### households"
   ]
  },
  {
   "cell_type": "code",
   "execution_count": null,
   "id": "b162ddeb",
   "metadata": {},
   "outputs": [],
   "source": [
    "firstQ_h = df['households'].quantile(0.25)\n",
    "thirdQ_h = df['households'].quantile(0.75)\n",
    "IQR_h = thirdQ_h - firstQ_h\n",
    "IQR_h"
   ]
  },
  {
   "cell_type": "code",
   "execution_count": null,
   "id": "39ecab35",
   "metadata": {},
   "outputs": [],
   "source": [
    "newB_h = thirdQ_h + 3*(IQR_h)\n",
    "df.drop(df[df['households']>newB_h].index, axis = 0, inplace =True)\n",
    "df.shape"
   ]
  },
  {
   "cell_type": "markdown",
   "id": "34e7f9b7",
   "metadata": {},
   "source": [
    "#### Total rooms"
   ]
  },
  {
   "cell_type": "code",
   "execution_count": null,
   "id": "31c46106",
   "metadata": {},
   "outputs": [],
   "source": [
    "firstQ_t = df['total_rooms'].quantile(0.25)\n",
    "thirdQ_t = df['total_rooms'].quantile(0.75)\n",
    "IQR_t = thirdQ_t - firstQ_t\n",
    "IQR_t"
   ]
  },
  {
   "cell_type": "code",
   "execution_count": null,
   "id": "9a7b6605",
   "metadata": {
    "scrolled": true
   },
   "outputs": [],
   "source": [
    "newB_t = thirdQ_t + 3*(IQR_t)\n",
    "df.drop(df[df['total_rooms']>newB_t].index, axis = 0, inplace =True)\n",
    "df.shape"
   ]
  },
  {
   "cell_type": "code",
   "execution_count": null,
   "id": "7de50e14",
   "metadata": {
    "scrolled": true
   },
   "outputs": [],
   "source": [
    "df.describe()"
   ]
  },
  {
   "cell_type": "markdown",
   "id": "03d09d99",
   "metadata": {},
   "source": [
    "--------\n",
    "## EDA "
   ]
  },
  {
   "cell_type": "markdown",
   "id": "ea42ab79",
   "metadata": {},
   "source": [
    "# Q1: Does the age of the house affect on the house value?"
   ]
  },
  {
   "cell_type": "code",
   "execution_count": null,
   "id": "7abd02e6",
   "metadata": {
    "scrolled": true
   },
   "outputs": [],
   "source": [
    "sns.lineplot(data=df, x=\"housing_median_age\", y=\"median_house_value\")   "
   ]
  },
  {
   "cell_type": "markdown",
   "id": "ae6cd9f3",
   "metadata": {},
   "source": [
    "#### Using `.corr()` to show the correlation between the columns"
   ]
  },
  {
   "cell_type": "code",
   "execution_count": null,
   "id": "4c34bc8b",
   "metadata": {
    "scrolled": true
   },
   "outputs": [],
   "source": [
    "df.corr()"
   ]
  },
  {
   "cell_type": "code",
   "execution_count": null,
   "id": "fa3ac0b0",
   "metadata": {},
   "outputs": [],
   "source": [
    "df.corr()['median_house_value'].sort_values(ascending=False) \n",
    "#to show the correlation between median_house_value column and the other columns "
   ]
  },
  {
   "cell_type": "code",
   "execution_count": null,
   "id": "c093bd45",
   "metadata": {
    "scrolled": true
   },
   "outputs": [],
   "source": [
    "plt.figure(figsize=(8,6))\n",
    "sns.heatmap(df.corr(),cmap='YlGnBu',annot=True)\n",
    "plt.show\n",
    "\n",
    "#visualize the correlation"
   ]
  },
  {
   "cell_type": "markdown",
   "id": "2e645e37",
   "metadata": {},
   "source": [
    "#### Defining a function called `show_values()` to show values in my plots"
   ]
  },
  {
   "cell_type": "code",
   "execution_count": null,
   "id": "7c207b4f",
   "metadata": {},
   "outputs": [],
   "source": [
    "def show_values(axs, orient=\"v\", space=.01):\n",
    "    def _single(ax):\n",
    "        if orient == \"v\":\n",
    "            for p in ax.patches:\n",
    "                _x = p.get_x() + p.get_width() / 2\n",
    "                _y = p.get_y() + p.get_height() + (p.get_height()*0.01)\n",
    "                value = '{:.1f}'.format(p.get_height())\n",
    "                ax.text(_x, _y, value, ha=\"center\") \n",
    "        elif orient == \"h\":\n",
    "            for p in ax.patches:\n",
    "                _x = p.get_x() + p.get_width() + float(space)\n",
    "                _y = p.get_y() + p.get_height() - (p.get_height()*0.5)\n",
    "                value = '{:.1f}'.format(p.get_width())\n",
    "                ax.text(_x, _y, value, ha=\"left\")\n",
    "\n",
    "    if isinstance(axs, np.ndarray):\n",
    "        for idx, ax in np.ndenumerate(axs):\n",
    "            _single(ax)\n",
    "    else:\n",
    "        _single(axs)\n"
   ]
  },
  {
   "cell_type": "markdown",
   "id": "c1a35cdb",
   "metadata": {},
   "source": [
    "# Q2: Where does people prefer on their house location?"
   ]
  },
  {
   "cell_type": "markdown",
   "id": "e1314e4e",
   "metadata": {},
   "source": [
    "#### `.countplot()` to count how many time the variable has been repeated."
   ]
  },
  {
   "cell_type": "code",
   "execution_count": null,
   "id": "66595948",
   "metadata": {
    "scrolled": true
   },
   "outputs": [],
   "source": [
    "\n",
    "x1=sns.countplot(x=df['ocean_proximity'], data=df)\n",
    "show_values(x1)"
   ]
  },
  {
   "cell_type": "markdown",
   "id": "6504c4cf",
   "metadata": {},
   "source": [
    "## Q3: Does the proximity from the house to the ocean affect its price?"
   ]
  },
  {
   "cell_type": "markdown",
   "id": "84e275c1",
   "metadata": {},
   "source": [
    "#### Using `.imread` in the map plot to insert an image"
   ]
  },
  {
   "cell_type": "code",
   "execution_count": null,
   "id": "abcae2b5",
   "metadata": {
    "scrolled": true
   },
   "outputs": [],
   "source": [
    "df.plot(kind = \"scatter\", x=\"longitude\" , y=\"latitude\" , c =df[\"median_house_value\"], s =df[\"population\"]/100,\n",
    "        alpha = 0.4, cmap = plt.get_cmap(\"jet\"),label='population', figsize = (12,8))\n",
    "\n",
    "\n",
    "#load png image\n",
    "map_image = mpimg.imread(\"california.png\")\n",
    "\n",
    "plt.imshow(map_image, extent = [-124.55, -114, 32.55, 42.05], alpha = 0.4, cmap = plt.get_cmap(\"jet\"))\n",
    "\n",
    "plt.xlabel(\"longitude\")\n",
    "plt.ylabel(\"latitude\")"
   ]
  },
  {
   "cell_type": "markdown",
   "id": "d8e781cc",
   "metadata": {},
   "source": [
    "- the closer we are to the ocean, the more expensive the houses values become"
   ]
  },
  {
   "cell_type": "markdown",
   "id": "43d5a38e",
   "metadata": {},
   "source": [
    "## Q4: What is the most city that had the highest population?"
   ]
  },
  {
   "cell_type": "code",
   "execution_count": null,
   "id": "dbc1ceb9",
   "metadata": {},
   "outputs": [],
   "source": [
    "california_map = folium.Map(location=[36.7783,-119.4179], zoom_start = 6, min_zoom=5)\n",
    "df_map = df[['latitude', 'longitude']]\n",
    "data = [[row['latitude'],row['longitude']] for index, row in df_map.iterrows()]\n",
    "_ = HeatMap(data, radius=10).add_to(california_map)\n",
    "california_map"
   ]
  },
  {
   "cell_type": "code",
   "execution_count": null,
   "id": "79cafa4c",
   "metadata": {},
   "outputs": [],
   "source": [
    "sns.scatterplot(x=df['median_income'], y=df['median_house_value'], hue=df['median_house_value'],alpha=0.4)\n",
    "\n",
    "#df.plot(kind='scatter',x='median_income',y='median_house_value',alpha=0.1)"
   ]
  },
  {
   "cell_type": "markdown",
   "id": "b413ec6c",
   "metadata": {},
   "source": [
    "#### Using `.get_dummies` to change the object value to (0,1) values"
   ]
  },
  {
   "cell_type": "code",
   "execution_count": null,
   "id": "71c20d00",
   "metadata": {
    "scrolled": false
   },
   "outputs": [],
   "source": [
    "df = pd.get_dummies(df, prefix=None)\n",
    "df.head()"
   ]
  },
  {
   "cell_type": "markdown",
   "id": "5778495f",
   "metadata": {},
   "source": [
    "---------------\n",
    "## Define x , y"
   ]
  },
  {
   "cell_type": "code",
   "execution_count": null,
   "id": "2e40100c",
   "metadata": {},
   "outputs": [],
   "source": [
    "X = df.drop(columns=[\"median_house_value\",\"longitude\", \"latitude\",\"ocean_proximity_ISLAND\" ]).astype(float)\n",
    "y = df.loc[:,'median_house_value'].astype(float)"
   ]
  },
  {
   "cell_type": "code",
   "execution_count": null,
   "id": "dd6a9d4b",
   "metadata": {},
   "outputs": [],
   "source": [
    "X"
   ]
  },
  {
   "cell_type": "code",
   "execution_count": null,
   "id": "7b705fc3",
   "metadata": {
    "scrolled": true
   },
   "outputs": [],
   "source": [
    "y"
   ]
  },
  {
   "cell_type": "code",
   "execution_count": null,
   "id": "06f10340",
   "metadata": {},
   "outputs": [],
   "source": [
    "sns.pairplot(df, x_vars=['housing_median_age','total_rooms','total_bedrooms'\n",
    "                         ,'population','households','median_income','ocean_proximity_INLAND','ocean_proximity_NEAR BAY','ocean_proximity_NEAR OCEAN','ocean_proximity_less 1H OCEAN'], y_vars='median_house_value',diag_kind='kde')"
   ]
  },
  {
   "cell_type": "markdown",
   "id": "d63e8693",
   "metadata": {},
   "source": [
    "---------------\n",
    "\n",
    "## Split dataset [ train - vaidation - test ]"
   ]
  },
  {
   "cell_type": "code",
   "execution_count": null,
   "id": "0db172bd",
   "metadata": {},
   "outputs": [],
   "source": [
    "X_train, X_test, y_train, y_test = train_test_split(X, y, test_size=.20, random_state=0)"
   ]
  },
  {
   "cell_type": "code",
   "execution_count": null,
   "id": "ba15663c",
   "metadata": {},
   "outputs": [],
   "source": [
    "### Actual train,test and val\n",
    "y_actual_train=y_train\n",
    "y_actual_test=y_test"
   ]
  },
  {
   "cell_type": "markdown",
   "id": "37577321",
   "metadata": {},
   "source": [
    "----------\n",
    "## Scale"
   ]
  },
  {
   "cell_type": "code",
   "execution_count": null,
   "id": "f751c812",
   "metadata": {},
   "outputs": [],
   "source": [
    "scaler = StandardScaler()\n",
    "\n",
    "X_train_scaled = scaler.fit_transform(X_train.values)\n",
    "X_test_scaled = scaler.transform(X_test.values)"
   ]
  },
  {
   "cell_type": "markdown",
   "id": "a769421e",
   "metadata": {},
   "source": [
    "----------\n",
    "\n",
    "## The Model"
   ]
  },
  {
   "cell_type": "markdown",
   "id": "e92e8f74",
   "metadata": {},
   "source": [
    "## Linear Regression Model"
   ]
  },
  {
   "cell_type": "code",
   "execution_count": null,
   "id": "4905c88d",
   "metadata": {},
   "outputs": [],
   "source": [
    "my_model = LinearRegression()\n",
    "my_model.fit(X_train , y_train)"
   ]
  },
  {
   "cell_type": "code",
   "execution_count": null,
   "id": "bb793bc4",
   "metadata": {
    "scrolled": false
   },
   "outputs": [],
   "source": [
    "print(f'The Linear regression coefficients are: {my_model.coef_}')\n",
    "print(f'The Linear regression interception is: {my_model.intercept_}')"
   ]
  },
  {
   "cell_type": "code",
   "execution_count": null,
   "id": "486273af",
   "metadata": {},
   "outputs": [],
   "source": [
    "# Predict Value\n",
    "y_predict = my_model.predict(X_test)\n",
    "y_predict"
   ]
  },
  {
   "cell_type": "code",
   "execution_count": null,
   "id": "cc3a1b09",
   "metadata": {},
   "outputs": [],
   "source": [
    "#real Value\n",
    "y_test"
   ]
  },
  {
   "cell_type": "code",
   "execution_count": null,
   "id": "6a3ad239",
   "metadata": {
    "scrolled": false
   },
   "outputs": [],
   "source": [
    "# Regression Score\n",
    "train_data_score = my_model.score(X_train , y_train)\n",
    "test_data_score = my_model.score(X_test , y_test)\n",
    "\n",
    "\n",
    "print(f'The Linear regression train R^2 is: {train_data_score}')\n",
    "print(f'The Linear regression test R^2 is: {test_data_score}')"
   ]
  },
  {
   "cell_type": "code",
   "execution_count": null,
   "id": "bb60979c",
   "metadata": {},
   "outputs": [],
   "source": [
    "y_pred_lr = my_model.predict(X_test)\n",
    "r2_score(y_test, y_pred_lr)"
   ]
  },
  {
   "cell_type": "code",
   "execution_count": null,
   "id": "5847d640",
   "metadata": {
    "scrolled": true
   },
   "outputs": [],
   "source": [
    "# Evaluate\n",
    "import math\n",
    "MSE = np.square(np.subtract(y_actual_test,y_pred_lr)).mean() \n",
    "RMSE = math.sqrt(MSE)\n",
    "print(f'Mean Absolute Error: {MSE}')\n",
    "print(f'Root Mean Square Error: {RMSE}')"
   ]
  },
  {
   "cell_type": "code",
   "execution_count": null,
   "id": "fca579ef",
   "metadata": {
    "scrolled": false
   },
   "outputs": [],
   "source": [
    "y_train_pred_linear = my_model.predict(X_train)\n",
    "plt.figure(figsize=(8, 6), dpi=80)\n",
    "\n",
    "plt.scatter(y_train, y_train_pred_linear, alpha=0.2, color='slateblue')\n",
    "\n",
    "m, b = np.polyfit(y_train, y_train_pred_linear, 1)\n",
    "# m = slope \n",
    "# b = intercept\n",
    "\n",
    "plt.plot(y_train, m*y_train + b, color='midnightblue')\n",
    "\n",
    "plt.xlabel('Actual Target Train', fontsize=14)\n",
    "plt.ylabel('Predicted Target Train', fontsize=14)\n",
    "plt.title('Linear regression Predicted VS. Actual Target Train', fontsize=16)\n",
    "plt.grid(linewidth=0.5)"
   ]
  },
  {
   "cell_type": "markdown",
   "id": "ffd7d90d",
   "metadata": {},
   "source": [
    "------\n",
    "### Decision tree regressor model"
   ]
  },
  {
   "cell_type": "code",
   "execution_count": null,
   "id": "f2ed5933",
   "metadata": {},
   "outputs": [],
   "source": [
    "from sklearn.tree import DecisionTreeRegressor"
   ]
  },
  {
   "cell_type": "code",
   "execution_count": null,
   "id": "c88f912b",
   "metadata": {
    "scrolled": true
   },
   "outputs": [],
   "source": [
    "DT_model = DecisionTreeRegressor(max_depth=4)\n",
    "DT_model.fit(X_train,y_train)"
   ]
  },
  {
   "cell_type": "code",
   "execution_count": null,
   "id": "5d8243e1",
   "metadata": {
    "scrolled": true
   },
   "outputs": [],
   "source": [
    "# Predict Value\n",
    "y_predict_dt = DT_model.predict(X_test)\n",
    "y_predict_dt"
   ]
  },
  {
   "cell_type": "code",
   "execution_count": null,
   "id": "304ec5fa",
   "metadata": {},
   "outputs": [],
   "source": [
    "#real Value\n",
    "y_test"
   ]
  },
  {
   "cell_type": "code",
   "execution_count": null,
   "id": "9826d0f4",
   "metadata": {
    "scrolled": true
   },
   "outputs": [],
   "source": [
    "## Score\n",
    "train_data_score_dt = DT_model.score(X_train , y_train)\n",
    "test_data_score_dt = DT_model.score(X_test , y_test)\n",
    "\n",
    "print(f'The Decision tree regressor train R^2 is: {train_data_score_dt}')\n",
    "print(f'The Decision tree regressor test R^2 is: {test_data_score_dt}')"
   ]
  },
  {
   "cell_type": "code",
   "execution_count": null,
   "id": "3995d846",
   "metadata": {},
   "outputs": [],
   "source": [
    "# Evaluate\n",
    "import math\n",
    "MSE = np.square(np.subtract(y_actual_test,y_predict_dt)).mean() \n",
    "RMSE = math.sqrt(MSE)\n",
    "print(f'Mean Absolute Error: {MSE}')\n",
    "print(f'Root Mean Square Error: {RMSE}')"
   ]
  },
  {
   "cell_type": "markdown",
   "id": "c001413c",
   "metadata": {},
   "source": [
    "-----\n",
    "## Lasso Regression"
   ]
  },
  {
   "cell_type": "code",
   "execution_count": null,
   "id": "3fbee66e",
   "metadata": {},
   "outputs": [],
   "source": [
    "from sklearn.model_selection import cross_val_score\n",
    "from sklearn.model_selection import RepeatedKFold\n",
    "from sklearn.linear_model import Lasso\n",
    "from numpy import mean\n",
    "from numpy import std\n",
    "from numpy import absolute"
   ]
  },
  {
   "cell_type": "code",
   "execution_count": null,
   "id": "a3cf03e3",
   "metadata": {},
   "outputs": [],
   "source": [
    "lasso_model = Lasso(alpha=1.0)"
   ]
  },
  {
   "cell_type": "code",
   "execution_count": null,
   "id": "9e2b0328",
   "metadata": {
    "scrolled": true
   },
   "outputs": [],
   "source": [
    "lasso_model.fit(X_train_scaled, y_train)"
   ]
  },
  {
   "cell_type": "code",
   "execution_count": null,
   "id": "0d32552e",
   "metadata": {},
   "outputs": [],
   "source": [
    "# Predict Value\n",
    "y_predict_lasso = lasso_model.predict(X_test)\n",
    "y_predict_lasso"
   ]
  },
  {
   "cell_type": "code",
   "execution_count": null,
   "id": "c5f494f6",
   "metadata": {
    "scrolled": true
   },
   "outputs": [],
   "source": [
    "## Score\n",
    "train_data_score_ls = lasso_model.score(X_train_scaled , y_train)\n",
    "test_data_score_ls = lasso_model.score(X_test_scaled , y_test)\n",
    "\n",
    "print(f'The Ridge regression train R^2 is: {train_data_score_ls}')\n",
    "print(f'The Ridge regression test R^2 is: {test_data_score_ls}')"
   ]
  },
  {
   "cell_type": "code",
   "execution_count": null,
   "id": "c5479ffa",
   "metadata": {},
   "outputs": [],
   "source": [
    "# Evaluate\n",
    "import math\n",
    "MSE = np.square(np.subtract(y_actual_test,y_predict_lasso)).mean() \n",
    "RMSE = math.sqrt(MSE)\n",
    "\n",
    "print(f'Mean Absolute Error: {MSE}')\n",
    "print(f'Root Mean Square Error: {RMSE}')"
   ]
  },
  {
   "cell_type": "code",
   "execution_count": null,
   "id": "310c4ae6",
   "metadata": {},
   "outputs": [],
   "source": [
    "y_train_pred_lasso = lasso_model.predict(X_train)\n",
    "plt.figure(figsize=(8, 6), dpi=80)\n",
    "\n",
    "plt.scatter(y_train, y_train_pred_lasso, alpha=0.2, color='slateblue')\n",
    "\n",
    "m, b = np.polyfit(y_train, y_train_pred_lasso, 1)\n",
    "# m = slope \n",
    "# b = intercept\n",
    "\n",
    "plt.plot(y_train, m*y_train + b, color='midnightblue')\n",
    "\n",
    "plt.xlabel('Actual Target Train', fontsize=14)\n",
    "plt.ylabel('Predicted Target Train', fontsize=14)\n",
    "plt.title('Predicted VS. Actual Target Train', fontsize=16)\n",
    "plt.grid(linewidth=0.5)"
   ]
  },
  {
   "cell_type": "markdown",
   "id": "dcaa65dc",
   "metadata": {},
   "source": [
    "## Ridge Regression"
   ]
  },
  {
   "cell_type": "code",
   "execution_count": null,
   "id": "8ee92d99",
   "metadata": {},
   "outputs": [],
   "source": [
    "rl = Ridge(alpha=1)"
   ]
  },
  {
   "cell_type": "code",
   "execution_count": null,
   "id": "34276527",
   "metadata": {},
   "outputs": [],
   "source": [
    "rl.fit(X_train_scaled, y_train)"
   ]
  },
  {
   "cell_type": "code",
   "execution_count": null,
   "id": "79bd6aaf",
   "metadata": {
    "scrolled": false
   },
   "outputs": [],
   "source": [
    "#Score\n",
    "rl_train = rl.score(X_train_scaled, y_train)\n",
    "rl_test = rl.score(X_test_scaled, y_test)\n",
    "\n",
    "\n",
    "print(f'The Ridge regression train R^2 is: {rl_train}')\n",
    "print(f'The Ridge regression test R^2 is: {rl_test}')"
   ]
  },
  {
   "cell_type": "code",
   "execution_count": null,
   "id": "089e72e1",
   "metadata": {
    "scrolled": true
   },
   "outputs": [],
   "source": [
    "# Predict Value\n",
    "y_predict_ri = rl.predict(X_test)\n",
    "y_predict_ri"
   ]
  },
  {
   "cell_type": "code",
   "execution_count": null,
   "id": "5b31afb8",
   "metadata": {
    "scrolled": true
   },
   "outputs": [],
   "source": [
    "# Evaluate\n",
    "import math\n",
    "MSE = np.square(np.subtract(y_actual_test,y_predict_ri)).mean() \n",
    "RMSE = math.sqrt(MSE)\n",
    "\n",
    "print(f'Mean Absolute Error: {MSE}')\n",
    "print(f'Root Mean Square Error: {RMSE}')"
   ]
  },
  {
   "cell_type": "code",
   "execution_count": null,
   "id": "aeee8712",
   "metadata": {},
   "outputs": [],
   "source": [
    "y_train_pred_rl = rl.predict(X_train)\n",
    "plt.figure(figsize=(8, 6), dpi=80)\n",
    "\n",
    "plt.scatter(y_train, y_train_pred_rl, alpha=0.2, color='slateblue')\n",
    "\n",
    "m, b = np.polyfit(y_train, y_train_pred_rl, 1)\n",
    "# m = slope \n",
    "# b = intercept\n",
    "\n",
    "plt.plot(y_train, m*y_train + b, color='midnightblue')\n",
    "\n",
    "plt.xlabel('Actual Target Train', fontsize=14)\n",
    "plt.ylabel('Predicted Target Train', fontsize=14)\n",
    "plt.title('Predicted VS. Actual Target Train', fontsize=16)\n",
    "plt.grid(linewidth=0.5)"
   ]
  },
  {
   "cell_type": "markdown",
   "id": "c585700e",
   "metadata": {},
   "source": [
    "## Random Forest Regressor Model"
   ]
  },
  {
   "cell_type": "code",
   "execution_count": null,
   "id": "9324e0c6",
   "metadata": {},
   "outputs": [],
   "source": [
    "forest=RandomForestRegressor(n_estimators=5)\n",
    "forest.fit(X_train,y_train)"
   ]
  },
  {
   "cell_type": "code",
   "execution_count": null,
   "id": "b0566624",
   "metadata": {},
   "outputs": [],
   "source": [
    "y_pr_f=forest.predict(X_test)\n",
    "y_pr_f"
   ]
  },
  {
   "cell_type": "code",
   "execution_count": null,
   "id": "f9a77c76",
   "metadata": {
    "scrolled": true
   },
   "outputs": [],
   "source": [
    "#real Value\n",
    "y_test"
   ]
  },
  {
   "cell_type": "code",
   "execution_count": null,
   "id": "e2697390",
   "metadata": {
    "scrolled": true
   },
   "outputs": [],
   "source": [
    "train_data_score_forest = forest.score(X_train , y_train)\n",
    "test_data_score_forest = forest.score(X_test , y_test)\n",
    "\n",
    "print(f'The Random Forest Regressor train R^2 is: {train_data_score_forest}')\n",
    "print(f'The Random Forest Regressor test R^2 is: {test_data_score_forest}')"
   ]
  },
  {
   "cell_type": "code",
   "execution_count": null,
   "id": "289e2054",
   "metadata": {},
   "outputs": [],
   "source": [
    "# Evaluate\n",
    "import math\n",
    "MSE = np.square(np.subtract(y_actual_test,y_pr_f)).mean() \n",
    "RMSE = math.sqrt(MSE)\n",
    "\n",
    "print(f'Mean Absolute Error: {MSE}')\n",
    "print(f'Root Mean Square Error: {RMSE}')"
   ]
  },
  {
   "cell_type": "code",
   "execution_count": null,
   "id": "58ee180c",
   "metadata": {},
   "outputs": [],
   "source": [
    "y_train_pred_forest = forest.predict(X_train)\n",
    "plt.figure(figsize=(8, 6), dpi=80)\n",
    "\n",
    "plt.scatter(y_train, y_train_pred_forest, alpha=0.2, color='slateblue')\n",
    "\n",
    "m, b = np.polyfit(y_train, y_train_pred_forest, 1)\n",
    "# m = slope \n",
    "# b = intercept\n",
    "\n",
    "plt.plot(y_train, m*y_train + b, color='midnightblue')\n",
    "\n",
    "plt.xlabel('Actual Target Train', fontsize=14)\n",
    "plt.ylabel('Predicted Target Train', fontsize=14)\n",
    "plt.title('Predicted VS. Actual Target Train', fontsize=16)\n",
    "plt.grid(linewidth=0.5)"
   ]
  },
  {
   "cell_type": "markdown",
   "id": "bc38d4d7",
   "metadata": {},
   "source": [
    "## Polynomial Regression Model"
   ]
  },
  {
   "cell_type": "code",
   "execution_count": null,
   "id": "977ba612",
   "metadata": {},
   "outputs": [],
   "source": [
    "poly = PolynomialFeatures(degree=3) \n",
    "\n",
    "X_train_poly = poly.fit_transform(X_train.values)\n",
    "X_test_poly = poly.transform(X_test.values)\n",
    "\n",
    "poly_model = LinearRegression()"
   ]
  },
  {
   "cell_type": "code",
   "execution_count": null,
   "id": "313da1cd",
   "metadata": {
    "scrolled": true
   },
   "outputs": [],
   "source": [
    "poly_model.fit(X_train_poly, y_train)"
   ]
  },
  {
   "cell_type": "code",
   "execution_count": null,
   "id": "883bbb88",
   "metadata": {},
   "outputs": [],
   "source": [
    "X_poly = poly.fit_transform(X_test)\n",
    "regressor = LinearRegression()\n",
    "regressor.fit(X_poly,y_test)\n",
    "y_poly_pred=regressor.predict(X_poly)"
   ]
  },
  {
   "cell_type": "code",
   "execution_count": null,
   "id": "dea991ca",
   "metadata": {
    "scrolled": true
   },
   "outputs": [],
   "source": [
    "#Score\n",
    "poly_test=poly_model.score(X_test_poly, y_test)\n",
    "poly_train=poly_model.score(X_train_poly, y_train)\n",
    "\n",
    "print(f'The polynomial regression train R^2 is: {poly_train}')\n",
    "print(f'polynomial regression test R^2 is: {poly_test}')"
   ]
  },
  {
   "cell_type": "code",
   "execution_count": null,
   "id": "7c86977f",
   "metadata": {},
   "outputs": [],
   "source": [
    "# Evaluate\n",
    "import math\n",
    "MSE = np.square(np.subtract(y_actual_test,y_poly_pred)).mean() \n",
    "RMSE = math.sqrt(MSE)\n",
    "\n",
    "print(f'Mean Absolute Error: {MSE}')\n",
    "print(f'Root Mean Square Error: {RMSE}')"
   ]
  },
  {
   "cell_type": "code",
   "execution_count": null,
   "id": "78eafdc6",
   "metadata": {},
   "outputs": [],
   "source": [
    "y_train_pred_poly = poly_model.predict(X_train_poly)\n",
    "plt.figure(figsize=(8, 6), dpi=80)\n",
    "\n",
    "plt.scatter(y_train, y_train_pred_poly, alpha=0.2, color='slateblue')\n",
    "\n",
    "m, b = np.polyfit(y_train, y_train_pred_poly, 1)\n",
    "# m = slope \n",
    "# b = intercept\n",
    "\n",
    "plt.plot(y_train, m*y_train + b, color='midnightblue')\n",
    "\n",
    "plt.xlabel('Actual Target Train (Global Sales)', fontsize=14)\n",
    "plt.ylabel('Predicted Target Train (Global Sales)', fontsize=14)\n",
    "plt.title('Polynomial regression Predicted VS. Actual Target Train', fontsize=16)\n",
    "plt.grid(linewidth=0.5)"
   ]
  }
 ],
 "metadata": {
  "kernelspec": {
   "display_name": "Python 3",
   "language": "python",
   "name": "python3"
  },
  "language_info": {
   "codemirror_mode": {
    "name": "ipython",
    "version": 3
   },
   "file_extension": ".py",
   "mimetype": "text/x-python",
   "name": "python",
   "nbconvert_exporter": "python",
   "pygments_lexer": "ipython3",
   "version": "3.8.8"
  }
 },
 "nbformat": 4,
 "nbformat_minor": 5
}
